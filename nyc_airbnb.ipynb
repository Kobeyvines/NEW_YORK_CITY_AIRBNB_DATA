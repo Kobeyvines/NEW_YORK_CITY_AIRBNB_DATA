{
 "cells": [
  {
   "cell_type": "markdown",
   "id": "5b6ea3c5",
   "metadata": {},
   "source": [
    "STEP: 1 - IMPORT DEPENDENCIES"
   ]
  },
  {
   "cell_type": "code",
   "execution_count": 1,
   "id": "f9b2f453",
   "metadata": {},
   "outputs": [
    {
     "name": "stdout",
     "output_type": "stream",
     "text": [
      "✅ Common data analysis libraries loaded: pandas, numpy, seaborn, matplotlib, sqlalchemy\n"
     ]
    }
   ],
   "source": [
    "# notebook_setup.py\n",
    "\n",
    "# Data analysis\n",
    "import pandas as pd\n",
    "import numpy as np\n",
    "\n",
    "# Visualization\n",
    "import matplotlib.pyplot as plt\n",
    "import seaborn as sns\n",
    "\n",
    "# SQL\n",
    "from sqlalchemy import create_engine, text\n",
    "%load_ext sql\n",
    "\n",
    "\n",
    "# Date/time handling\n",
    "import datetime as dt\n",
    "\n",
    "# Display settings\n",
    "pd.set_option('display.max_columns', None)\n",
    "pd.set_option('display.float_format', lambda x: '%.2f' % x)\n",
    "\n",
    "# Visualization defaults\n",
    "sns.set_theme(style=\"whitegrid\")\n",
    "plt.rcParams['figure.figsize'] = (10, 6)\n",
    "\n",
    "print(\"✅ Common data analysis libraries loaded: pandas, numpy, seaborn, matplotlib, sqlalchemy\")\n"
   ]
  },
  {
   "cell_type": "markdown",
   "id": "6ef2a7fa",
   "metadata": {},
   "source": [
    "STEP 2: CREATING A CONNECTION TO POSTGRES"
   ]
  },
  {
   "cell_type": "code",
   "execution_count": 2,
   "id": "5bd2d753",
   "metadata": {},
   "outputs": [
    {
     "name": "stdout",
     "output_type": "stream",
     "text": [
      "✅ Connected to PostgreSQL successfully!\n"
     ]
    }
   ],
   "source": [
    "import os\n",
    "from dotenv import load_dotenv\n",
    "from sqlalchemy import create_engine\n",
    "from sqlalchemy.engine import URL\n",
    "\n",
    "# Load environment variables from .env\n",
    "load_dotenv()\n",
    "\n",
    "# Read values\n",
    "username = os.getenv(\"DB_USER\")\n",
    "password = os.getenv(\"DB_PASSWORD\")\n",
    "host = os.getenv(\"DB_HOST\")\n",
    "port = os.getenv(\"DB_PORT\")\n",
    "database = os.getenv(\"DB_NAME\")\n",
    "\n",
    "# Build connection URL (handles special characters like # automatically)\n",
    "connection_url = URL.create(\n",
    "    \"postgresql+psycopg2\",\n",
    "    username=username,\n",
    "    password=password,\n",
    "    host=host,\n",
    "    port=port,\n",
    "    database=database\n",
    ")\n",
    "\n",
    "# Create engine\n",
    "engine = create_engine(connection_url)\n",
    "\n",
    "# Test connection\n",
    "try:\n",
    "    with engine.connect() as conn:\n",
    "        print(\"✅ Connected to PostgreSQL successfully!\")\n",
    "except Exception as e:\n",
    "    print(\"❌ Connection failed:\", e)\n"
   ]
  },
  {
   "cell_type": "markdown",
   "id": "2e7d7812",
   "metadata": {},
   "source": [
    "STEP 3: ACCESSING THE TABLE"
   ]
  },
  {
   "cell_type": "code",
   "execution_count": 3,
   "id": "1e6c7164",
   "metadata": {},
   "outputs": [
    {
     "data": {
      "text/html": [
       "<div>\n",
       "<style scoped>\n",
       "    .dataframe tbody tr th:only-of-type {\n",
       "        vertical-align: middle;\n",
       "    }\n",
       "\n",
       "    .dataframe tbody tr th {\n",
       "        vertical-align: top;\n",
       "    }\n",
       "\n",
       "    .dataframe thead th {\n",
       "        text-align: right;\n",
       "    }\n",
       "</style>\n",
       "<table border=\"1\" class=\"dataframe\">\n",
       "  <thead>\n",
       "    <tr style=\"text-align: right;\">\n",
       "      <th></th>\n",
       "      <th>count</th>\n",
       "    </tr>\n",
       "  </thead>\n",
       "  <tbody>\n",
       "    <tr>\n",
       "      <th>0</th>\n",
       "      <td>48895</td>\n",
       "    </tr>\n",
       "  </tbody>\n",
       "</table>\n",
       "</div>"
      ],
      "text/plain": [
       "   count\n",
       "0  48895"
      ]
     },
     "execution_count": 3,
     "metadata": {},
     "output_type": "execute_result"
    }
   ],
   "source": [
    "# List all schemas and tables you can see\n",
    "query = \"\"\"\n",
    "SELECT table_schema, table_name\n",
    "FROM information_schema.tables\n",
    "WHERE table_type='BASE TABLE'\n",
    "AND table_schema NOT IN ('pg_catalog','information_schema','pgagent');\n",
    "\"\"\"\n",
    "# Preview your Airbnb data (replace schema.table with your actual)\n",
    "pd.read_sql(\"SELECT * FROM airbnb_listings.ab_nyc LIMIT 5;\", engine)\n",
    "\n",
    "# Row count\n",
    "pd.read_sql(\"SELECT COUNT(*) FROM airbnb_listings.ab_nyc;\", engine)\n"
   ]
  },
  {
   "cell_type": "markdown",
   "id": "35367910",
   "metadata": {},
   "source": [
    "ANALYSIS"
   ]
  },
  {
   "cell_type": "code",
   "execution_count": 5,
   "id": "39cdab22",
   "metadata": {},
   "outputs": [
    {
     "name": "stdout",
     "output_type": "stream",
     "text": [
      "<class 'pandas.core.frame.DataFrame'>\n",
      "RangeIndex: 48895 entries, 0 to 48894\n",
      "Data columns (total 16 columns):\n",
      " #   Column                          Non-Null Count  Dtype  \n",
      "---  ------                          --------------  -----  \n",
      " 0   id                              48895 non-null  int64  \n",
      " 1   name                            48895 non-null  object \n",
      " 2   host_id                         48895 non-null  int64  \n",
      " 3   host_name                       48895 non-null  object \n",
      " 4   neighbourhood_group             48895 non-null  object \n",
      " 5   neighbourhood                   48895 non-null  object \n",
      " 6   latitude                        48895 non-null  float64\n",
      " 7   longitude                       48895 non-null  float64\n",
      " 8   room_type                       48895 non-null  object \n",
      " 9   price                           48895 non-null  int64  \n",
      " 10  minimum_nights                  48895 non-null  int64  \n",
      " 11  number_of_reviews               48895 non-null  int64  \n",
      " 12  last_review                     48895 non-null  object \n",
      " 13  reviews_per_month               38843 non-null  float64\n",
      " 14  calculated_host_listings_count  48895 non-null  int64  \n",
      " 15  availability_365                48895 non-null  int64  \n",
      "dtypes: float64(3), int64(7), object(6)\n",
      "memory usage: 6.0+ MB\n"
     ]
    },
    {
     "data": {
      "text/plain": [
       "neighbourhood_group\n",
       "Bronx            87.50\n",
       "Brooklyn        124.38\n",
       "Manhattan       196.88\n",
       "Queens           99.52\n",
       "Staten Island   114.81\n",
       "Name: price, dtype: float64"
      ]
     },
     "execution_count": 5,
     "metadata": {},
     "output_type": "execute_result"
    }
   ],
   "source": [
    "airbnb_df = pd.read_sql(\"SELECT * FROM airbnb_listings.ab_nyc;\", engine)\n",
    "\n",
    "# Quick summary\n",
    "airbnb_df.info()\n",
    "airbnb_df.describe()\n",
    "\n",
    "# Example: Average price per neighbourhood_group\n",
    "airbnb_df.groupby(\"neighbourhood_group\")[\"price\"].mean()\n"
   ]
  },
  {
   "cell_type": "code",
   "execution_count": 1,
   "id": "be947fa5",
   "metadata": {},
   "outputs": [
    {
     "ename": "NameError",
     "evalue": "name 'airbnb_df' is not defined",
     "output_type": "error",
     "traceback": [
      "\u001b[31m---------------------------------------------------------------------------\u001b[39m",
      "\u001b[31mNameError\u001b[39m                                 Traceback (most recent call last)",
      "\u001b[36mCell\u001b[39m\u001b[36m \u001b[39m\u001b[32mIn[1]\u001b[39m\u001b[32m, line 1\u001b[39m\n\u001b[32m----> \u001b[39m\u001b[32m1\u001b[39m airbnb_df.head()\n",
      "\u001b[31mNameError\u001b[39m: name 'airbnb_df' is not defined"
     ]
    }
   ],
   "source": [
    "airbnb_df.head()"
   ]
  }
 ],
 "metadata": {
  "kernelspec": {
   "display_name": "kaggle_spotify_dataset",
   "language": "python",
   "name": "python3"
  },
  "language_info": {
   "codemirror_mode": {
    "name": "ipython",
    "version": 3
   },
   "file_extension": ".py",
   "mimetype": "text/x-python",
   "name": "python",
   "nbconvert_exporter": "python",
   "pygments_lexer": "ipython3",
   "version": "3.11.13"
  }
 },
 "nbformat": 4,
 "nbformat_minor": 5
}
