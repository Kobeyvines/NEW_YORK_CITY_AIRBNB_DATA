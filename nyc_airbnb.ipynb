{
 "cells": [
  {
   "cell_type": "markdown",
   "id": "0",
   "metadata": {},
   "source": [
    "STEP: 1 - IMPORT DEPENDENCIES"
   ]
  },
  {
   "cell_type": "code",
   "execution_count": null,
   "id": "1",
   "metadata": {},
   "outputs": [],
   "source": [
    "# notebook_setup.py\n",
    "\n",
    "# Data analysis\n",
    "import pandas as pd\n",
    "import numpy as np\n",
    "\n",
    "# Visualization\n",
    "import matplotlib.pyplot as plt\n",
    "import seaborn as sns\n",
    "\n",
    "# SQL\n",
    "from sqlalchemy import create_engine, text\n",
    "%load_ext sql\n",
    "\n",
    "\n",
    "# Date/time handling\n",
    "import datetime as dt\n",
    "\n",
    "# Display settings\n",
    "pd.set_option('display.max_columns', None)\n",
    "pd.set_option('display.float_format', lambda x: '%.2f' % x)\n",
    "\n",
    "# Visualization defaults\n",
    "sns.set_theme(style=\"whitegrid\")\n",
    "plt.rcParams['figure.figsize'] = (10, 6)\n",
    "\n",
    "print(\"✅ Common data analysis libraries loaded: pandas, numpy, seaborn, matplotlib, sqlalchemy\")\n"
   ]
  },
  {
   "cell_type": "markdown",
   "id": "2",
   "metadata": {},
   "source": [
    "STEP 2: CREATING A CONNECTION TO POSTGRES"
   ]
  },
  {
   "cell_type": "code",
   "execution_count": null,
   "id": "3",
   "metadata": {},
   "outputs": [],
   "source": [
    "import os\n",
    "from dotenv import load_dotenv\n",
    "from sqlalchemy import create_engine\n",
    "from sqlalchemy.engine import URL\n",
    "\n",
    "# Load environment variables from .env\n",
    "load_dotenv()\n",
    "\n",
    "# Read values\n",
    "username = os.getenv(\"DB_USER\")\n",
    "password = os.getenv(\"DB_PASSWORD\")\n",
    "host = os.getenv(\"DB_HOST\")\n",
    "port = os.getenv(\"DB_PORT\")\n",
    "database = os.getenv(\"DB_NAME\")\n",
    "\n",
    "# Build connection URL (handles special characters like # automatically)\n",
    "connection_url = URL.create(\n",
    "    \"postgresql+psycopg2\",\n",
    "    username=username,\n",
    "    password=password,\n",
    "    host=host,\n",
    "    port=port,\n",
    "    database=database\n",
    ")\n",
    "\n",
    "# Create engine\n",
    "engine = create_engine(connection_url)\n",
    "\n",
    "# Test connection\n",
    "try:\n",
    "    with engine.connect() as conn:\n",
    "        print(\"✅ Connected to PostgreSQL successfully!\")\n",
    "except Exception as e:\n",
    "    print(\"❌ Connection failed:\", e)\n"
   ]
  },
  {
   "cell_type": "markdown",
   "id": "4",
   "metadata": {},
   "source": [
    "STEP 3: ACCESSING THE TABLE"
   ]
  },
  {
   "cell_type": "code",
   "execution_count": null,
   "id": "5",
   "metadata": {},
   "outputs": [],
   "source": [
    "# List all schemas and tables you can see\n",
    "query = \"\"\"\n",
    "SELECT table_schema, table_name\n",
    "FROM information_schema.tables\n",
    "WHERE table_type='BASE TABLE'\n",
    "AND table_schema NOT IN ('pg_catalog','information_schema','pgagent');\n",
    "\"\"\"\n",
    "# Preview your Airbnb data (replace schema.table with your actual)\n",
    "pd.read_sql(\"SELECT * FROM airbnb_listings.ab_nyc LIMIT 5;\", engine)\n",
    "\n",
    "# Row count\n",
    "pd.read_sql(\"SELECT COUNT(*) FROM airbnb_listings.ab_nyc;\", engine)\n"
   ]
  },
  {
   "cell_type": "markdown",
   "id": "6",
   "metadata": {},
   "source": [
    "ANALYSIS"
   ]
  },
  {
   "cell_type": "code",
   "execution_count": null,
   "id": "7",
   "metadata": {},
   "outputs": [],
   "source": [
    "airbnb_df = pd.read_sql(\"SELECT * FROM airbnb_listings.ab_nyc;\", engine)\n",
    "\n",
    "# Quick summary\n",
    "airbnb_df.info()\n",
    "print(airbnb_df.describe())\n",
    "\n",
    "# Example: Average price per neighbourhood_group\n",
    "airbnb_df.groupby(\"neighbourhood_group\")[\"price\"].mean()\n"
   ]
  },
  {
   "cell_type": "markdown",
   "id": "8",
   "metadata": {},
   "source": [
    "First few rows to confirm content and formatting"
   ]
  },
  {
   "cell_type": "code",
   "execution_count": null,
   "id": "9",
   "metadata": {},
   "outputs": [],
   "source": [
    "print(airbnb_df.shape)\n",
    "airbnb_df.head()"
   ]
  }
 ],
 "metadata": {
  "kernelspec": {
   "display_name": "kaggle_spotify_dataset",
   "language": "python",
   "name": "python3"
  },
  "language_info": {
   "codemirror_mode": {
    "name": "ipython",
    "version": 3
   },
   "file_extension": ".py",
   "mimetype": "text/x-python",
   "name": "python",
   "nbconvert_exporter": "python",
   "pygments_lexer": "ipython3",
   "version": "3.11.13"
  }
 },
 "nbformat": 4,
 "nbformat_minor": 5
}
